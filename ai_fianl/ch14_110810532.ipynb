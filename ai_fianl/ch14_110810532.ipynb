{
 "cells": [
  {
   "cell_type": "code",
   "execution_count": 4,
   "metadata": {
    "scrolled": true
   },
   "outputs": [
    {
     "name": "stdout",
     "output_type": "stream",
     "text": [
      "Non-user install because site-packages writeable\n",
      "Created temporary directory: C:\\Users\\typs1\\AppData\\Local\\Temp\\pip-ephem-wheel-cache-bydlfw8s\n",
      "Created temporary directory: C:\\Users\\typs1\\AppData\\Local\\Temp\\pip-req-tracker-zkso63i7\n",
      "Initialized build tracking at C:\\Users\\typs1\\AppData\\Local\\Temp\\pip-req-tracker-zkso63i7\n",
      "Created build tracker: C:\\Users\\typs1\\AppData\\Local\\Temp\\pip-req-tracker-zkso63i7\n",
      "Entered build tracker: C:\\Users\\typs1\\AppData\\Local\\Temp\\pip-req-tracker-zkso63i7\n",
      "Created temporary directory: C:\\Users\\typs1\\AppData\\Local\\Temp\\pip-install-64fzhtxv\n",
      "Requirement already satisfied: opencv-python==4.2.0.34 in c:\\users\\typs1\\anaconda3\\lib\\site-packages (4.2.0.34)\n",
      "Requirement already satisfied: numpy>=1.17.3 in c:\\users\\typs1\\anaconda3\\lib\\site-packages (from opencv-python==4.2.0.34) (1.18.5)\n",
      "Removed build tracker: 'C:\\\\Users\\\\typs1\\\\AppData\\\\Local\\\\Temp\\\\pip-req-tracker-zkso63i7'\n",
      "Note: you may need to restart the kernel to use updated packages.\n"
     ]
    }
   ],
   "source": [
    "pip install -v opencv-python==4.2.0.34"
   ]
  },
  {
   "cell_type": "code",
   "execution_count": 5,
   "metadata": {},
   "outputs": [
    {
     "name": "stdout",
     "output_type": "stream",
     "text": [
      "Collecting opencv-contrib-python==4.2.0.34Note: you may need to restart the kernel to use updated packages.\n",
      "\n",
      "  Downloading opencv_contrib_python-4.2.0.34-cp38-cp38-win_amd64.whl (39.5 MB)\n",
      "Requirement already satisfied: numpy>=1.17.3 in c:\\users\\typs1\\anaconda3\\lib\\site-packages (from opencv-contrib-python==4.2.0.34) (1.18.5)\n",
      "Installing collected packages: opencv-contrib-python\n",
      "Successfully installed opencv-contrib-python-4.2.0.34\n"
     ]
    }
   ],
   "source": [
    "pip install opencv-contrib-python==4.2.0.34 --user"
   ]
  },
  {
   "cell_type": "code",
   "execution_count": null,
   "metadata": {},
   "outputs": [],
   "source": [
    "import cv2\n",
    "cv2.namedWindow(\"ShowImage1\")\n",
    "cv2.namedWindow(\"ShowImage2\")\n",
    "image1=cv2.imread(\"img01.jpg\")\n",
    "image2=cv2.imread(\"img01.jpg\",0)\n",
    "cv2.imshow(\"ShowImage1\",image1)\n",
    "cv2.imshow(\"ShowImage2\",image2)\n",
    "cv2.waitKey(0)\n",
    "cv2.destroyAllWindows()"
   ]
  },
  {
   "cell_type": "code",
   "execution_count": 1,
   "metadata": {},
   "outputs": [],
   "source": [
    "import cv2\n",
    "cv2.namedWindow(\"ShowImage\")\n",
    "image=cv2.imread(\"img01.jpg\")\n",
    "cv2.imshow(\"ShowImage\",image)\n",
    "cv2.imwrite(\"img01copy1.jpg\",image)\n",
    "cv2.imwrite(\"img01copy2.jpg\",image, [ int (cv2.IMWRITE_JPEG_QUALITY),50])\n",
    "cv2.waitKey(0)\n",
    "cv2.destroyWindow(\"ShowImage\")"
   ]
  },
  {
   "cell_type": "code",
   "execution_count": 2,
   "metadata": {},
   "outputs": [],
   "source": [
    "import cv2,numpy\n",
    "cv2.namedWindow(\"plot\")\n",
    "image=cv2.imread(\"background.jpg\")\n",
    "cv2.line(image,(50,50),(300,300),(255,0,0),2)\n",
    "cv2.rectangle(image,(500,20),(580,100),(0,255,0),3)\n",
    "cv2.rectangle(image,(100,300),(150,360),(0,0,255),-1)\n",
    "cv2.circle(image,(500,300),40,(255,255,0),-1)\n",
    "pts=numpy.array([[300,300],[300,340],[350,320]],numpy. int32)\n",
    "cv2.polylines(image,[pts],True,(0,255,255),2)\n",
    "cv2.putText(image,\"background.jpg\",(350,420),cv2.FONT_HERSHEY_SIMPLEX,1,(255,255,255),2)\n",
    "cv2.imshow(\"plot\",image)\n",
    "cv2.waitKey(0)\n",
    "cv2.destroyAllWindows()"
   ]
  },
  {
   "cell_type": "code",
   "execution_count": 3,
   "metadata": {},
   "outputs": [],
   "source": [
    "import cv2\n",
    "casc_path=cv2.data.haarcascades+\"haarcascade_frontalface_default.xml\"\n",
    "faceCascade=cv2.CascadeClassifier(casc_path)\n",
    "imagename=cv2.imread(\"person1.jpg\")\n",
    "faces=faceCascade.detectMultiScale(imagename,scaleFactor=1.1,minNeighbors=5,minSize=(10,10),flags=cv2.CASCADE_SCALE_IMAGE)\n",
    "#imagename.shape[0]:圖片高度 imagename.shape[1]:圖片寬度\n",
    "cv2.rectangle(imagename,(10,imagename.shape[0]-20),(110,imagename.shape[0]),(0,0,0),-1)\n",
    "cv2.putText(imagename,\"Find\"+str(len(faces))+\"face!\",(10,imagename.shape[0]-5),cv2.FONT_HERSHEY_SIMPLEX,0.5,(255,255,255),2)\n",
    "for(x,y,w,h) in faces:\n",
    "    cv2.rectangle(imagename,(x,y),(x+w,y+h),(128,255,0),2)\n",
    "cv2.namedWindow(\"facedetect\")\n",
    "cv2.imshow(\"facedetect\",imagename)\n",
    "cv2.waitKey(0)\n",
    "cv2.destroyWindow(\"facedetect\")"
   ]
  },
  {
   "cell_type": "code",
   "execution_count": 4,
   "metadata": {},
   "outputs": [],
   "source": [
    "import cv2\n",
    "casc_path=cv2.data.haarcascades+\"haarcascade_frontalface_default.xml\"\n",
    "faceCascade=cv2.CascadeClassifier(casc_path)\n",
    "imagename=cv2.imread(\"person1.jpg\")\n",
    "faces=faceCascade.detectMultiScale(imagename,scaleFactor=1.1,minNeighbors=5,minSize=(30,30),flags=cv2.CASCADE_SCALE_IMAGE)\n",
    "#imagename.shape[0]:圖片高度 imagename.shape[1]:圖片寬度\n",
    "count=1\n",
    "for(x,y,w,h) in faces:\n",
    "    cv2.rectangle(image,(x,y),(x+w,y+h),(128,255,0),2)#框選臉部\n",
    "    filename=\"face\"+str(count)+\".jpg\"#存檔名稱\n",
    "    image1=image[y:y+h,x:x+w]#取得臉部圖形\n",
    "    image2=cv2.resize(image1,(400,400))#重製圖形大小\n",
    "    cv2.imwrite(filename,image2)\n",
    "    count+=1"
   ]
  },
  {
   "cell_type": "code",
   "execution_count": 3,
   "metadata": {},
   "outputs": [
    {
     "ename": "KeyboardInterrupt",
     "evalue": "",
     "output_type": "error",
     "traceback": [
      "\u001b[1;31m---------------------------------------------------------------------------\u001b[0m",
      "\u001b[1;31mKeyboardInterrupt\u001b[0m                         Traceback (most recent call last)",
      "\u001b[1;32m<ipython-input-3-8319bd3beb02>\u001b[0m in \u001b[0;36m<module>\u001b[1;34m\u001b[0m\n\u001b[0;32m      6\u001b[0m     \u001b[1;32mif\u001b[0m \u001b[0mret\u001b[0m \u001b[1;33m==\u001b[0m\u001b[1;32mTrue\u001b[0m\u001b[1;33m:\u001b[0m\u001b[1;33m\u001b[0m\u001b[1;33m\u001b[0m\u001b[0m\n\u001b[0;32m      7\u001b[0m         \u001b[0mcv2\u001b[0m\u001b[1;33m.\u001b[0m\u001b[0mimshow\u001b[0m\u001b[1;33m(\u001b[0m\u001b[1;34m\"frame\"\u001b[0m\u001b[1;33m,\u001b[0m\u001b[0mimg\u001b[0m\u001b[1;33m)\u001b[0m\u001b[1;33m\u001b[0m\u001b[1;33m\u001b[0m\u001b[0m\n\u001b[1;32m----> 8\u001b[1;33m         \u001b[0mk\u001b[0m\u001b[1;33m=\u001b[0m\u001b[0mcv2\u001b[0m\u001b[1;33m.\u001b[0m\u001b[0mwaitKey\u001b[0m\u001b[1;33m(\u001b[0m\u001b[1;36m100\u001b[0m\u001b[1;33m)\u001b[0m\u001b[1;33m\u001b[0m\u001b[1;33m\u001b[0m\u001b[0m\n\u001b[0m\u001b[0;32m      9\u001b[0m         \u001b[1;32mif\u001b[0m \u001b[0mk\u001b[0m\u001b[1;33m==\u001b[0m\u001b[0mord\u001b[0m\u001b[1;33m(\u001b[0m\u001b[1;34m\"z\"\u001b[0m\u001b[1;33m)\u001b[0m\u001b[1;32mor\u001b[0m \u001b[0mk\u001b[0m\u001b[1;33m==\u001b[0m\u001b[0mord\u001b[0m\u001b[1;33m(\u001b[0m\u001b[1;34m\"z\"\u001b[0m\u001b[1;33m)\u001b[0m\u001b[1;33m:\u001b[0m\u001b[1;33m\u001b[0m\u001b[1;33m\u001b[0m\u001b[0m\n\u001b[0;32m     10\u001b[0m             \u001b[0mcv2\u001b[0m\u001b[1;33m.\u001b[0m\u001b[0mimwrite\u001b[0m\u001b[1;33m(\u001b[0m\u001b[1;34m\"catch.jpg\"\u001b[0m\u001b[1;33m,\u001b[0m\u001b[0mimg\u001b[0m\u001b[1;33m)\u001b[0m\u001b[1;33m\u001b[0m\u001b[1;33m\u001b[0m\u001b[0m\n",
      "\u001b[1;31mKeyboardInterrupt\u001b[0m: "
     ]
    }
   ],
   "source": [
    "import cv2\n",
    "cv2.namedWindow(\"frame\")\n",
    "cap=cv2.VideoCapture(0)\n",
    "while(cap.isOpened()):\n",
    "    ret,img=cap.read()\n",
    "    if ret ==True:\n",
    "        cv2.imshow(\"frame\",img)\n",
    "        k=cv2.waitKey(100)\n",
    "        if k==ord(\"z\")or k==ord(\"z\"):\n",
    "            cv2.imwrite(\"catch.jpg\",img)\n",
    "            break\n",
    "cap.release()\n",
    "cv2.destroyWindow(\"frame\")"
   ]
  },
  {
   "cell_type": "code",
   "execution_count": 1,
   "metadata": {},
   "outputs": [
    {
     "name": "stdout",
     "output_type": "stream",
     "text": [
      "輸入姓名(使用英文):victor\n",
      "取樣完成!\n",
      "開始建立模型.........\n",
      "建立模型完成!\n"
     ]
    }
   ],
   "source": [
    "import cv2\n",
    "import os,glob\n",
    "import numpy as np\n",
    "from time import sleep\n",
    "def saveImg(image,index):#圖片存檔\n",
    "    filename='images/'+name+'/face{:03d}.jpg'.format(index)\n",
    "    cv2.imwrite(filename,image)\n",
    "index=1\n",
    "total=100 #人臉取樣總數\n",
    "name=input('輸入姓名(使用英文):')\n",
    "if os.path.isdir('images/'+name):#使用姓名做為資料夾\n",
    "    print('此姓名已存在!')\n",
    "else:\n",
    "    os.mkdir('images/'+name)#建立資料夾\n",
    "    face_cascade=cv2.CascadeClassifier(cv2.data.haarcascades+\"haarcascade_frontalface_alt2.xml\")\n",
    "    cap=cv2.VideoCapture(0)#開啟攝影機\n",
    "    cv2.namedWindow('video',cv2.WINDOW_NORMAL)\n",
    "    while index>0:#取樣\n",
    "        ret, frame=cap.read()\n",
    "        frame=cv2.flip(frame,1)\n",
    "        gray=cv2.cvtColor(frame,cv2.COLOR_BGR2GRAY)\n",
    "        faces=face_cascade.detectMultiScale(gray,1.1,3)\n",
    "        for (x,y,w,h) in faces:\n",
    "            frame=cv2.rectangle(frame,(x,y),(x+w,y+h),(0,255,0),3)#框選臉部\n",
    "            image=cv2.resize(gray[y:y+h,x:x+w],(400,400))#存檔圖片大小\n",
    "            saveImg(image,index)\n",
    "            sleep(0.1)\n",
    "            index+=1\n",
    "            if index>total:\n",
    "                print('取樣完成!')\n",
    "                index=-1#離開迴圈\n",
    "                break\n",
    "        cv2.imshow('video',frame)\n",
    "        cv2.waitKey(1)\n",
    "    cap.release()#關閉cam\n",
    "    cv2.destroyAllWindows()\n",
    "images=[]#存所有訓練圖形\n",
    "labels=[]#存所有訓練標籤\n",
    "labelstr=[]#會員姓名\n",
    "count=0 #會員編號索引\n",
    "dirs=os.listdir('images')#取得所有資料夾以及檔案\n",
    "for d in dirs:\n",
    "    if os.path.isdir('images/'+d):#指處理資料夾\n",
    "        files=glob.glob('images/'+d+'/*.jpg')#取得資料夾中所有圖檔\n",
    "        for filename in files:#逐一處理圖片\n",
    "            img=cv2.imread(filename,cv2.COLOR_BGR2GRAY)\n",
    "            images.append(img)\n",
    "            labels.append(count)#以數值做為標籤\n",
    "        labelstr.append(d)#將姓名加入串列\n",
    "        count+=1\n",
    "#建立姓名檔案,在辨識人臉時使用\n",
    "f=open('member.txt','w')\n",
    "f.write(','.join(labelstr))\n",
    "f.close()\n",
    "print('開始建立模型.........')\n",
    "model=cv2.face.LBPHFaceRecognizer_create()#建立LBPH空模型\n",
    "model.train(np.asarray(images),np.asarray(labels))#訓練模型\n",
    "model.save('face_LBPH.yml')#儲存模型\n",
    "print('建立模型完成!')"
   ]
  },
  {
   "cell_type": "code",
   "execution_count": 2,
   "metadata": {},
   "outputs": [
    {
     "name": "stdout",
     "output_type": "stream",
     "text": [
      "歡迎c登入! 24.96510934836652\n"
     ]
    }
   ],
   "source": [
    "import cv2\n",
    "import time\n",
    "model=cv2.face.LBPHFaceRecognizer_create()\n",
    "model.read('face_LBPH.yml')\n",
    "f=open('member.txt','r')#讀入模型\n",
    "names=f.readline().split(',')#讀入姓名存於串列\n",
    "face_cascade=cv2.CascadeClassifier(cv2.data.haarcascades+\"haarcascade_frontalface_alt2.xml\")\n",
    "cap=cv2.VideoCapture(0)\n",
    "cv2.namedWindow('frame',cv2.WINDOW_NORMAL)\n",
    "timenow=time.time()#取得現在時間數值\n",
    "while(cap.isOpened()):#cam開啟成功\n",
    "    count=5 - int(time.time()-timenow)#倒數計時五秒\n",
    "    ret,img=cap.read()\n",
    "    if ret==True:\n",
    "        imgcopy=img.copy()#複製影像\n",
    "        cv2.putText(imgcopy,str(count),(200,400),cv2.FONT_HERSHEY_SIMPLEX,15,(0,0,255),35)#在複製影像上畫倒數秒數\n",
    "        cv2.imshow(\"frame\",imgcopy)#顯示複製影像\n",
    "        k=cv2.waitKey(100)#0.1秒讀鍵盤一次\n",
    "        if k==ord(\"z\")or k==ord(\"z\")or count==0:#按Z或倒數計時結束\n",
    "            cv2.imwrite(\"tem.jpg\",img)\n",
    "            break\n",
    "cap.release()#關閉CAM\n",
    "cv2.destroyAllWindows()\n",
    "img=cv2.imread(\"tem.jpg\")\n",
    "gray=cv2.cvtColor(img,cv2.COLOR_BGR2GRAY)\n",
    "faces=face_cascade.detectMultiScale(gray,1.1,3)\n",
    "for (x,y,w,h) in faces:\n",
    "    img=cv2.rectangle(img,(x,y),(x+w,y+h),(0,255,0),3)\n",
    "    face_img=cv2.resize(gray[y:y+h,x:x+w],(400,400))#調整成訓練時大小\n",
    "    try:\n",
    "        val=model.predict(face_img)\n",
    "        if val[1]<50:#辨識成功,顯示登入訊息\n",
    "            print('歡迎'+name[val[0]]+'登入!',val[1])\n",
    "        else:\n",
    "            print('抱歉!你不是會員，無法登入!')\n",
    "    except:\n",
    "        print('辨識時產生錯誤')"
   ]
  },
  {
   "cell_type": "code",
   "execution_count": null,
   "metadata": {},
   "outputs": [],
   "source": []
  }
 ],
 "metadata": {
  "kernelspec": {
   "display_name": "Python 3",
   "language": "python",
   "name": "python3"
  },
  "language_info": {
   "codemirror_mode": {
    "name": "ipython",
    "version": 3
   },
   "file_extension": ".py",
   "mimetype": "text/x-python",
   "name": "python",
   "nbconvert_exporter": "python",
   "pygments_lexer": "ipython3",
   "version": "3.8.3"
  }
 },
 "nbformat": 4,
 "nbformat_minor": 4
}
